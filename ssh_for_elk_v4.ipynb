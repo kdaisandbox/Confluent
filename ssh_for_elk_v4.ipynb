{
  "cells": [
    {
      "cell_type": "markdown",
      "source": [
        "### **KoçDigital Sandbox Services** \n",
        "Data and AI Experiences Made Easy!"
      ],
      "metadata": {
        "id": "kU58zX5UWzvz"
      }
    },
    {
      "cell_type": "markdown",
      "source": [
        "**Real-Time Log Analytics as a Service with Confluent and Elasticsearch**\n",
        "\n",
        "![image.png](data:image/png;base64,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)"
      ],
      "metadata": {
        "id": "pwRJ2DbiV-u9"
      }
    },
    {
      "cell_type": "markdown",
      "source": [
        "Link to the reference document: [link text](https://www.confluent.io/blog/log-analytics-management-monitoring-as-a-service/)"
      ],
      "metadata": {
        "id": "HnRSrec5XKJw"
      }
    },
    {
      "cell_type": "markdown",
      "source": [
        "**Use case briefing (sourced from the reference document indicated above):**\n",
        "\n",
        "Collecting and indexing logs from servers, applications, and devices enables crucial visibility into running systems. A log analytics pipeline allows teams to debug and troubleshoot issues, track historical trends, or investigate security incidents. The most commonly deployed log analytics combines Apache Kafka® and Elasticsearch to create a reliable, scalable, and performant system to ingest and query data. The time it takes to deploy a new log pipeline is a key factor in if a new data project will be successful. Kubernetes and disaggregated storage simplify Kafka and Elasticsearch clusters and are essential for scaling and operating log pipelines in production.\n",
        "\n",
        "A cloud-native disaggregated pipeline architecture with fast object storage means:\n",
        "\n",
        "*   **More efficient resource** usage by avoiding deploying extra nodes just to increase storage and no longer needing full replicas for data protection.\n",
        "\n",
        "*   **Faster failure handling** by making pods (brokers or data nodes) near-stateless. With small, bounded amounts of storage attached to a pod, rebalance operations are orders of magnitude faster.\n",
        "\n",
        "*   **Support for fast historical searches** with the predictable all-flash performance of FlashBlade.\n"
      ],
      "metadata": {
        "id": "fVXWtoUMXWD0"
      }
    },
    {
      "cell_type": "markdown",
      "source": [
        "**Architecture review:**\n",
        "\n",
        "![Ekran görüntüsü 2022-03-10 144512.jpg](data:image/jpeg;base64,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)"
      ],
      "metadata": {
        "id": "0beJbFYoZACE"
      }
    },
    {
      "cell_type": "markdown",
      "source": [
        "**Pipeline Components:**\n",
        "\n",
        "* Confluent (Open Source)\n",
        "* Elasticsearch: \n",
        "  * Filebeat - Synthetic log generator\n",
        "  * Logstash\n",
        "  * Kibana"
      ],
      "metadata": {
        "id": "q0BGoZ79ywmp"
      }
    },
    {
      "cell_type": "markdown",
      "source": [
        "**How it works?**\n",
        "\n",
        "*   Generate system logs through SSH login trials\n",
        "*   Filebeat listens logs and sends to the Kafka topic\n",
        "*   Logstash listens the Kafka topics and sends to Elasticsearch\n",
        "*   Kibana demonstrates the data that arrives in Elasticsearch"
      ],
      "metadata": {
        "id": "hqbDj1RBza7a"
      }
    },
    {
      "cell_type": "code",
      "execution_count": null,
      "metadata": {
        "id": "DbJspDr6tFKa"
      },
      "outputs": [],
      "source": [
        "from pexpect import pxssh\n",
        "import time"
      ]
    },
    {
      "cell_type": "code",
      "execution_count": null,
      "metadata": {
        "id": "4r9czFSItFKc",
        "outputId": "d07a5126-2427-463c-9072-eb247ca4a852"
      },
      "outputs": [
        {
          "name": "stdout",
          "output_type": "stream",
          "text": [
            "An exception occurred\n",
            "An exception occurred\n",
            "An exception occurred\n",
            "An exception occurred\n",
            "An exception occurred\n",
            "An exception occurred\n",
            "An exception occurred\n",
            "An exception occurred\n",
            "An exception occurred\n",
            "An exception occurred\n",
            "An exception occurred\n",
            "An exception occurred\n",
            "An exception occurred\n",
            "An exception occurred\n",
            "An exception occurred\n",
            "An exception occurred\n",
            "An exception occurred\n"
          ]
        },
        {
          "ename": "KeyboardInterrupt",
          "evalue": "",
          "output_type": "error",
          "traceback": [
            "\u001b[0;31m---------------------------------------------------------------------------\u001b[0m",
            "\u001b[0;31mKeyboardInterrupt\u001b[0m                         Traceback (most recent call last)",
            "\u001b[0;32m<ipython-input-9-752de09a1437>\u001b[0m in \u001b[0;36m<module>\u001b[0;34m\u001b[0m\n\u001b[1;32m     14\u001b[0m         \u001b[0mprint\u001b[0m\u001b[0;34m(\u001b[0m\u001b[0;34m\"An exception occurred\"\u001b[0m\u001b[0;34m)\u001b[0m\u001b[0;34m\u001b[0m\u001b[0;34m\u001b[0m\u001b[0m\n\u001b[1;32m     15\u001b[0m \u001b[0;34m\u001b[0m\u001b[0m\n\u001b[0;32m---> 16\u001b[0;31m     \u001b[0mtime\u001b[0m\u001b[0;34m.\u001b[0m\u001b[0msleep\u001b[0m\u001b[0;34m(\u001b[0m\u001b[0;36m5\u001b[0m\u001b[0;34m)\u001b[0m\u001b[0;34m\u001b[0m\u001b[0;34m\u001b[0m\u001b[0m\n\u001b[0m",
            "\u001b[0;31mKeyboardInterrupt\u001b[0m: "
          ]
        }
      ],
      "source": [
        "for i in range(50):\n",
        "    try:\n",
        "        s = pxssh.pxssh()\n",
        "        if not s.login ('10.19.87.60', 'sahip', '*******'):\n",
        "            print(\"SSH session failed on login.\")\n",
        "            print(str(s))\n",
        "        else:\n",
        "            print(\"SSH session login successful\")\n",
        "            #s.sendline ('ls -l')\n",
        "            #s.prompt()         # match the prompt\n",
        "            #print(s.before)     # print everything before the prompt.\n",
        "            s.logout()\n",
        "    except:\n",
        "        print(\"An exception occurred\")\n",
        "    \n",
        "    time.sleep(5)"
      ]
    }
  ],
  "metadata": {
    "kernelspec": {
      "display_name": "Python 3",
      "language": "python",
      "name": "python3"
    },
    "language_info": {
      "codemirror_mode": {
        "name": "ipython",
        "version": 3
      },
      "file_extension": ".py",
      "mimetype": "text/x-python",
      "name": "python",
      "nbconvert_exporter": "python",
      "pygments_lexer": "ipython3",
      "version": "3.7.3"
    },
    "varInspector": {
      "cols": {
        "lenName": 16,
        "lenType": 16,
        "lenVar": 40
      },
      "kernels_config": {
        "python": {
          "delete_cmd_postfix": "",
          "delete_cmd_prefix": "del ",
          "library": "var_list.py",
          "varRefreshCmd": "print(var_dic_list())"
        },
        "r": {
          "delete_cmd_postfix": ") ",
          "delete_cmd_prefix": "rm(",
          "library": "var_list.r",
          "varRefreshCmd": "cat(var_dic_list()) "
        }
      },
      "types_to_exclude": [
        "module",
        "function",
        "builtin_function_or_method",
        "instance",
        "_Feature"
      ],
      "window_display": false
    },
    "colab": {
      "name": "ssh_for_elk_v4.ipynb",
      "provenance": []
    }
  },
  "nbformat": 4,
  "nbformat_minor": 0
}